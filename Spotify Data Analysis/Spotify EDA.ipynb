{
 "cells": [
  {
   "cell_type": "code",
   "execution_count": 28,
   "metadata": {},
   "outputs": [],
   "source": [
    "import pandas as pd\n",
    "import numpy as np\n",
    "import os\n",
    "import matplotlib.pyplot as plt"
   ]
  },
  {
   "cell_type": "code",
   "execution_count": 9,
   "metadata": {},
   "outputs": [
    {
     "data": {
      "text/plain": [
       "'c:\\\\Users\\\\nktun\\\\OneDrive\\\\Documents\\\\GitHub\\\\nkt1850\\\\Spotify Data Analysis'"
      ]
     },
     "execution_count": 9,
     "metadata": {},
     "output_type": "execute_result"
    }
   ],
   "source": [
    "os.getcwd()"
   ]
  },
  {
   "cell_type": "markdown",
   "metadata": {},
   "source": [
    "Read 4 json files and transform them into DataFrames, then concat into 1 final DataFrame (df)"
   ]
  },
  {
   "cell_type": "code",
   "execution_count": 13,
   "metadata": {},
   "outputs": [],
   "source": [
    "df_part_1 = pd.read_json(\"Spotify Extended Streaming History\\Streaming_History_Audio_2020-2023_0.json\")\n",
    "df_part_2 = pd.read_json(\"Spotify Extended Streaming History\\Streaming_History_Audio_2023_1.json\")\n",
    "df_part_3 = pd.read_json(\"Spotify Extended Streaming History\\Streaming_History_Audio_2023-2024_2.json\")\n",
    "# df_part_4 = pd.read_json(\"Spotify Extended Streaming History\\Streaming_History_Video_2020-2024.json\")"
   ]
  },
  {
   "cell_type": "code",
   "execution_count": 30,
   "metadata": {},
   "outputs": [],
   "source": [
    "# Concat all given DataFrames into 1 DF for further analyses\n",
    "spotify_df = pd.concat([df_part_1, df_part_2, df_part_3])\n",
    "# Removing username column because I am the only one using this account\n",
    "spotify_df.drop(columns=['username'], inplace=True)"
   ]
  },
  {
   "cell_type": "code",
   "execution_count": 31,
   "metadata": {},
   "outputs": [
    {
     "data": {
      "text/html": [
       "<div>\n",
       "<style scoped>\n",
       "    .dataframe tbody tr th:only-of-type {\n",
       "        vertical-align: middle;\n",
       "    }\n",
       "\n",
       "    .dataframe tbody tr th {\n",
       "        vertical-align: top;\n",
       "    }\n",
       "\n",
       "    .dataframe thead th {\n",
       "        text-align: right;\n",
       "    }\n",
       "</style>\n",
       "<table border=\"1\" class=\"dataframe\">\n",
       "  <thead>\n",
       "    <tr style=\"text-align: right;\">\n",
       "      <th></th>\n",
       "      <th>ts</th>\n",
       "      <th>platform</th>\n",
       "      <th>ms_played</th>\n",
       "      <th>conn_country</th>\n",
       "      <th>ip_addr_decrypted</th>\n",
       "      <th>user_agent_decrypted</th>\n",
       "      <th>master_metadata_track_name</th>\n",
       "      <th>master_metadata_album_artist_name</th>\n",
       "      <th>master_metadata_album_album_name</th>\n",
       "      <th>spotify_track_uri</th>\n",
       "      <th>episode_name</th>\n",
       "      <th>episode_show_name</th>\n",
       "      <th>spotify_episode_uri</th>\n",
       "      <th>reason_start</th>\n",
       "      <th>reason_end</th>\n",
       "      <th>shuffle</th>\n",
       "      <th>skipped</th>\n",
       "      <th>offline</th>\n",
       "      <th>offline_timestamp</th>\n",
       "      <th>incognito_mode</th>\n",
       "    </tr>\n",
       "  </thead>\n",
       "  <tbody>\n",
       "    <tr>\n",
       "      <th>0</th>\n",
       "      <td>2020-08-22T16:34:56Z</td>\n",
       "      <td>Windows 10 (10.0.18363; x64; AppX)</td>\n",
       "      <td>238360</td>\n",
       "      <td>VN</td>\n",
       "      <td>171.241.150.149</td>\n",
       "      <td>unknown</td>\n",
       "      <td>unravel</td>\n",
       "      <td>TK from Ling tosite sigure</td>\n",
       "      <td>Fantastic Magic</td>\n",
       "      <td>spotify:track:0GLyqTysS0DFoeKjURtB8s</td>\n",
       "      <td>None</td>\n",
       "      <td>None</td>\n",
       "      <td>None</td>\n",
       "      <td>clickrow</td>\n",
       "      <td>trackdone</td>\n",
       "      <td>False</td>\n",
       "      <td>NaN</td>\n",
       "      <td>False</td>\n",
       "      <td>1598113859206</td>\n",
       "      <td>False</td>\n",
       "    </tr>\n",
       "    <tr>\n",
       "      <th>1</th>\n",
       "      <td>2020-08-22T16:40:32Z</td>\n",
       "      <td>Windows 10 (10.0.18363; x64; AppX)</td>\n",
       "      <td>9490</td>\n",
       "      <td>VN</td>\n",
       "      <td>171.241.150.149</td>\n",
       "      <td>unknown</td>\n",
       "      <td>katharsis</td>\n",
       "      <td>TK from Ling tosite sigure</td>\n",
       "      <td>Katharsis</td>\n",
       "      <td>spotify:track:0PnrdoLqdpScsUTYd06Zb8</td>\n",
       "      <td>None</td>\n",
       "      <td>None</td>\n",
       "      <td>None</td>\n",
       "      <td>trackdone</td>\n",
       "      <td>logout</td>\n",
       "      <td>False</td>\n",
       "      <td>NaN</td>\n",
       "      <td>False</td>\n",
       "      <td>1598114096805</td>\n",
       "      <td>False</td>\n",
       "    </tr>\n",
       "    <tr>\n",
       "      <th>2</th>\n",
       "      <td>2020-08-22T16:40:42Z</td>\n",
       "      <td>Windows 10 (10.0.18363; x64; AppX)</td>\n",
       "      <td>2500</td>\n",
       "      <td>VN</td>\n",
       "      <td>171.241.150.149</td>\n",
       "      <td>unknown</td>\n",
       "      <td>Dancing With A Stranger (with Normani)</td>\n",
       "      <td>Sam Smith</td>\n",
       "      <td>Dancing With A Stranger (with Normani)</td>\n",
       "      <td>spotify:track:6Qs4SXO9dwPj5GKvVOv8Ki</td>\n",
       "      <td>None</td>\n",
       "      <td>None</td>\n",
       "      <td>None</td>\n",
       "      <td>clickrow</td>\n",
       "      <td>endplay</td>\n",
       "      <td>False</td>\n",
       "      <td>NaN</td>\n",
       "      <td>False</td>\n",
       "      <td>1598114439494</td>\n",
       "      <td>False</td>\n",
       "    </tr>\n",
       "    <tr>\n",
       "      <th>3</th>\n",
       "      <td>2020-08-22T16:40:45Z</td>\n",
       "      <td>Windows 10 (10.0.18363; x64; AppX)</td>\n",
       "      <td>3100</td>\n",
       "      <td>VN</td>\n",
       "      <td>171.241.150.149</td>\n",
       "      <td>unknown</td>\n",
       "      <td>How Do You Sleep?</td>\n",
       "      <td>Sam Smith</td>\n",
       "      <td>How Do You Sleep?</td>\n",
       "      <td>spotify:track:6b2RcmUt1g9N9mQ3CbjX2Y</td>\n",
       "      <td>None</td>\n",
       "      <td>None</td>\n",
       "      <td>None</td>\n",
       "      <td>clickrow</td>\n",
       "      <td>endplay</td>\n",
       "      <td>False</td>\n",
       "      <td>NaN</td>\n",
       "      <td>False</td>\n",
       "      <td>1598114442297</td>\n",
       "      <td>False</td>\n",
       "    </tr>\n",
       "    <tr>\n",
       "      <th>4</th>\n",
       "      <td>2020-08-22T16:40:52Z</td>\n",
       "      <td>Windows 10 (10.0.18363; x64; AppX)</td>\n",
       "      <td>6580</td>\n",
       "      <td>VN</td>\n",
       "      <td>171.241.150.149</td>\n",
       "      <td>unknown</td>\n",
       "      <td>Too Good At Goodbyes</td>\n",
       "      <td>Sam Smith</td>\n",
       "      <td>The Thrill Of It All</td>\n",
       "      <td>spotify:track:1mXVgsBdtIVeCLJnSnmtdV</td>\n",
       "      <td>None</td>\n",
       "      <td>None</td>\n",
       "      <td>None</td>\n",
       "      <td>clickrow</td>\n",
       "      <td>endplay</td>\n",
       "      <td>False</td>\n",
       "      <td>NaN</td>\n",
       "      <td>False</td>\n",
       "      <td>1598114445537</td>\n",
       "      <td>False</td>\n",
       "    </tr>\n",
       "  </tbody>\n",
       "</table>\n",
       "</div>"
      ],
      "text/plain": [
       "                     ts                            platform  ms_played   \n",
       "0  2020-08-22T16:34:56Z  Windows 10 (10.0.18363; x64; AppX)     238360  \\\n",
       "1  2020-08-22T16:40:32Z  Windows 10 (10.0.18363; x64; AppX)       9490   \n",
       "2  2020-08-22T16:40:42Z  Windows 10 (10.0.18363; x64; AppX)       2500   \n",
       "3  2020-08-22T16:40:45Z  Windows 10 (10.0.18363; x64; AppX)       3100   \n",
       "4  2020-08-22T16:40:52Z  Windows 10 (10.0.18363; x64; AppX)       6580   \n",
       "\n",
       "  conn_country ip_addr_decrypted user_agent_decrypted   \n",
       "0           VN   171.241.150.149              unknown  \\\n",
       "1           VN   171.241.150.149              unknown   \n",
       "2           VN   171.241.150.149              unknown   \n",
       "3           VN   171.241.150.149              unknown   \n",
       "4           VN   171.241.150.149              unknown   \n",
       "\n",
       "               master_metadata_track_name master_metadata_album_artist_name   \n",
       "0                                 unravel        TK from Ling tosite sigure  \\\n",
       "1                               katharsis        TK from Ling tosite sigure   \n",
       "2  Dancing With A Stranger (with Normani)                         Sam Smith   \n",
       "3                       How Do You Sleep?                         Sam Smith   \n",
       "4                    Too Good At Goodbyes                         Sam Smith   \n",
       "\n",
       "         master_metadata_album_album_name   \n",
       "0                         Fantastic Magic  \\\n",
       "1                               Katharsis   \n",
       "2  Dancing With A Stranger (with Normani)   \n",
       "3                       How Do You Sleep?   \n",
       "4                    The Thrill Of It All   \n",
       "\n",
       "                      spotify_track_uri episode_name episode_show_name   \n",
       "0  spotify:track:0GLyqTysS0DFoeKjURtB8s         None              None  \\\n",
       "1  spotify:track:0PnrdoLqdpScsUTYd06Zb8         None              None   \n",
       "2  spotify:track:6Qs4SXO9dwPj5GKvVOv8Ki         None              None   \n",
       "3  spotify:track:6b2RcmUt1g9N9mQ3CbjX2Y         None              None   \n",
       "4  spotify:track:1mXVgsBdtIVeCLJnSnmtdV         None              None   \n",
       "\n",
       "  spotify_episode_uri reason_start reason_end  shuffle skipped  offline   \n",
       "0                None     clickrow  trackdone    False     NaN    False  \\\n",
       "1                None    trackdone     logout    False     NaN    False   \n",
       "2                None     clickrow    endplay    False     NaN    False   \n",
       "3                None     clickrow    endplay    False     NaN    False   \n",
       "4                None     clickrow    endplay    False     NaN    False   \n",
       "\n",
       "   offline_timestamp  incognito_mode  \n",
       "0      1598113859206           False  \n",
       "1      1598114096805           False  \n",
       "2      1598114439494           False  \n",
       "3      1598114442297           False  \n",
       "4      1598114445537           False  "
      ]
     },
     "execution_count": 31,
     "metadata": {},
     "output_type": "execute_result"
    }
   ],
   "source": [
    "spotify_df.head()"
   ]
  },
  {
   "cell_type": "code",
   "execution_count": 32,
   "metadata": {},
   "outputs": [],
   "source": [
    "music_df = spotify_df.drop(columns=['episode_name', 'episode_show_name', 'spotify_episode_uri'],inplace=False)\n",
    "# Using the Music DF to only concern about music listened during my usage of Spotify from 2020 upto now"
   ]
  },
  {
   "cell_type": "markdown",
   "metadata": {},
   "source": [
    "### Descriptive statistics of listening habit"
   ]
  },
  {
   "cell_type": "code",
   "execution_count": 39,
   "metadata": {},
   "outputs": [
    {
     "name": "stdout",
     "output_type": "stream",
     "text": [
      "Total tracks listened: 41162\n",
      "Number of artists listened to: 2876\n",
      "Number of unique songs listened to: 7531\n"
     ]
    }
   ],
   "source": [
    "print(\"Total tracks listened:\", len(music_df))\n",
    "print(\"Number of artists listened to:\", music_df['master_metadata_album_artist_name'].nunique())\n",
    "print(\"Number of unique songs listened to:\", music_df['master_metadata_track_name'].nunique())"
   ]
  },
  {
   "cell_type": "code",
   "execution_count": 40,
   "metadata": {},
   "outputs": [
    {
     "ename": "NameError",
     "evalue": "name 'Descending' is not defined",
     "output_type": "error",
     "traceback": [
      "\u001b[1;31m---------------------------------------------------------------------------\u001b[0m",
      "\u001b[1;31mNameError\u001b[0m                                 Traceback (most recent call last)",
      "Cell \u001b[1;32mIn [40], line 1\u001b[0m\n\u001b[1;32m----> 1\u001b[0m \u001b[38;5;28mprint\u001b[39m(\u001b[38;5;124m\"\u001b[39m\u001b[38;5;124mTop 10 artists of choice:\u001b[39m\u001b[38;5;124m\"\u001b[39m, music_df[\u001b[38;5;124m'\u001b[39m\u001b[38;5;124mmaster_metadata_album_artist_name\u001b[39m\u001b[38;5;124m'\u001b[39m]\u001b[38;5;241m.\u001b[39mvalue_counts(sort\u001b[38;5;241m=\u001b[39m\u001b[43mDescending\u001b[49m))\u001b[38;5;241m.\u001b[39mhead(\u001b[38;5;241m10\u001b[39m)\n",
      "\u001b[1;31mNameError\u001b[0m: name 'Descending' is not defined"
     ]
    }
   ],
   "source": [
    "print(\"Top 10 artists of choice:\", music_df['master_metadata_album_artist_name'].value_counts(sort=Descending)).head(10)"
   ]
  }
 ],
 "metadata": {
  "kernelspec": {
   "display_name": "Python 3",
   "language": "python",
   "name": "python3"
  },
  "language_info": {
   "codemirror_mode": {
    "name": "ipython",
    "version": 3
   },
   "file_extension": ".py",
   "mimetype": "text/x-python",
   "name": "python",
   "nbconvert_exporter": "python",
   "pygments_lexer": "ipython3",
   "version": "3.9.6"
  }
 },
 "nbformat": 4,
 "nbformat_minor": 2
}
